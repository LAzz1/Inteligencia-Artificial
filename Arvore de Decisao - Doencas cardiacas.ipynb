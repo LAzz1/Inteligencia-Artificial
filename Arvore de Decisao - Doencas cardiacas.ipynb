{
  "nbformat": 4,
  "nbformat_minor": 0,
  "metadata": {
    "colab": {
      "provenance": []
    },
    "kernelspec": {
      "name": "python3",
      "display_name": "Python 3"
    },
    "language_info": {
      "name": "python"
    }
  },
  "cells": [
    {
      "cell_type": "markdown",
      "source": [
        "#Importando as bibliotecas e Dados"
      ],
      "metadata": {
        "id": "61OzKZEAYvcr"
      }
    },
    {
      "cell_type": "code",
      "execution_count": null,
      "metadata": {
        "id": "5koCqlTqvfZY",
        "colab": {
          "base_uri": "https://localhost:8080/"
        },
        "outputId": "78c03487-c525-43b5-d8a4-ce3ad05d6e20"
      },
      "outputs": [
        {
          "output_type": "stream",
          "name": "stdout",
          "text": [
            "Mounted at /content/drive\n"
          ]
        }
      ],
      "source": [
        "import pandas as pd\n",
        "import numpy as np\n",
        "import csv\n",
        "import os\n",
        "from google.colab import drive\n",
        "from sklearn.model_selection import train_test_split\n",
        "from sklearn.tree import DecisionTreeClassifier\n",
        "from sklearn.metrics import accuracy_score\n",
        "\n",
        "drive.mount('/content/drive')\n",
        "os.chdir(\"drive/MyDrive/Colab Notebooks/A3 - Inteligência Artificial/\")"
      ]
    },
    {
      "cell_type": "markdown",
      "source": [
        "##Visualização do Dataframe"
      ],
      "metadata": {
        "id": "ZDWV4vrta6-g"
      }
    },
    {
      "cell_type": "code",
      "source": [
        "df = pd.read_csv('heart.csv')\n",
        "df"
      ],
      "metadata": {
        "colab": {
          "base_uri": "https://localhost:8080/",
          "height": 424
        },
        "id": "JOiU4_ChT4t3",
        "outputId": "0c69590a-7428-4d2b-8595-a7e62345a895"
      },
      "execution_count": null,
      "outputs": [
        {
          "output_type": "execute_result",
          "data": {
            "text/plain": [
              "     idade  sexo  dor  part  chol  asj  restecg  fcarmax  aie  picoant  curva  \\\n",
              "0       63     1    3   145   233    1        0      150    0      2.3      0   \n",
              "1       37     1    2   130   250    0        1      187    0      3.5      0   \n",
              "2       41     0    1   130   204    0        0      172    0      1.4      2   \n",
              "3       56     1    1   120   236    0        1      178    0      0.8      2   \n",
              "4       57     0    0   120   354    0        1      163    1      0.6      2   \n",
              "..     ...   ...  ...   ...   ...  ...      ...      ...  ...      ...    ...   \n",
              "298     57     0    0   140   241    0        1      123    1      0.2      1   \n",
              "299     45     1    3   110   264    0        1      132    0      1.2      1   \n",
              "300     68     1    0   144   193    1        1      141    0      3.4      1   \n",
              "301     57     1    0   130   131    0        1      115    1      1.2      1   \n",
              "302     57     0    1   130   236    0        0      174    0      0.0      1   \n",
              "\n",
              "     nvm  fcar  resultado  \n",
              "0      0     1          1  \n",
              "1      0     2          1  \n",
              "2      0     2          1  \n",
              "3      0     2          1  \n",
              "4      0     2          1  \n",
              "..   ...   ...        ...  \n",
              "298    0     3          0  \n",
              "299    0     3          0  \n",
              "300    2     3          0  \n",
              "301    1     3          0  \n",
              "302    1     2          0  \n",
              "\n",
              "[303 rows x 14 columns]"
            ],
            "text/html": [
              "\n",
              "  <div id=\"df-89ef3666-967f-4df0-bd5b-8f20dcffa2a5\">\n",
              "    <div class=\"colab-df-container\">\n",
              "      <div>\n",
              "<style scoped>\n",
              "    .dataframe tbody tr th:only-of-type {\n",
              "        vertical-align: middle;\n",
              "    }\n",
              "\n",
              "    .dataframe tbody tr th {\n",
              "        vertical-align: top;\n",
              "    }\n",
              "\n",
              "    .dataframe thead th {\n",
              "        text-align: right;\n",
              "    }\n",
              "</style>\n",
              "<table border=\"1\" class=\"dataframe\">\n",
              "  <thead>\n",
              "    <tr style=\"text-align: right;\">\n",
              "      <th></th>\n",
              "      <th>idade</th>\n",
              "      <th>sexo</th>\n",
              "      <th>dor</th>\n",
              "      <th>part</th>\n",
              "      <th>chol</th>\n",
              "      <th>asj</th>\n",
              "      <th>restecg</th>\n",
              "      <th>fcarmax</th>\n",
              "      <th>aie</th>\n",
              "      <th>picoant</th>\n",
              "      <th>curva</th>\n",
              "      <th>nvm</th>\n",
              "      <th>fcar</th>\n",
              "      <th>resultado</th>\n",
              "    </tr>\n",
              "  </thead>\n",
              "  <tbody>\n",
              "    <tr>\n",
              "      <th>0</th>\n",
              "      <td>63</td>\n",
              "      <td>1</td>\n",
              "      <td>3</td>\n",
              "      <td>145</td>\n",
              "      <td>233</td>\n",
              "      <td>1</td>\n",
              "      <td>0</td>\n",
              "      <td>150</td>\n",
              "      <td>0</td>\n",
              "      <td>2.3</td>\n",
              "      <td>0</td>\n",
              "      <td>0</td>\n",
              "      <td>1</td>\n",
              "      <td>1</td>\n",
              "    </tr>\n",
              "    <tr>\n",
              "      <th>1</th>\n",
              "      <td>37</td>\n",
              "      <td>1</td>\n",
              "      <td>2</td>\n",
              "      <td>130</td>\n",
              "      <td>250</td>\n",
              "      <td>0</td>\n",
              "      <td>1</td>\n",
              "      <td>187</td>\n",
              "      <td>0</td>\n",
              "      <td>3.5</td>\n",
              "      <td>0</td>\n",
              "      <td>0</td>\n",
              "      <td>2</td>\n",
              "      <td>1</td>\n",
              "    </tr>\n",
              "    <tr>\n",
              "      <th>2</th>\n",
              "      <td>41</td>\n",
              "      <td>0</td>\n",
              "      <td>1</td>\n",
              "      <td>130</td>\n",
              "      <td>204</td>\n",
              "      <td>0</td>\n",
              "      <td>0</td>\n",
              "      <td>172</td>\n",
              "      <td>0</td>\n",
              "      <td>1.4</td>\n",
              "      <td>2</td>\n",
              "      <td>0</td>\n",
              "      <td>2</td>\n",
              "      <td>1</td>\n",
              "    </tr>\n",
              "    <tr>\n",
              "      <th>3</th>\n",
              "      <td>56</td>\n",
              "      <td>1</td>\n",
              "      <td>1</td>\n",
              "      <td>120</td>\n",
              "      <td>236</td>\n",
              "      <td>0</td>\n",
              "      <td>1</td>\n",
              "      <td>178</td>\n",
              "      <td>0</td>\n",
              "      <td>0.8</td>\n",
              "      <td>2</td>\n",
              "      <td>0</td>\n",
              "      <td>2</td>\n",
              "      <td>1</td>\n",
              "    </tr>\n",
              "    <tr>\n",
              "      <th>4</th>\n",
              "      <td>57</td>\n",
              "      <td>0</td>\n",
              "      <td>0</td>\n",
              "      <td>120</td>\n",
              "      <td>354</td>\n",
              "      <td>0</td>\n",
              "      <td>1</td>\n",
              "      <td>163</td>\n",
              "      <td>1</td>\n",
              "      <td>0.6</td>\n",
              "      <td>2</td>\n",
              "      <td>0</td>\n",
              "      <td>2</td>\n",
              "      <td>1</td>\n",
              "    </tr>\n",
              "    <tr>\n",
              "      <th>...</th>\n",
              "      <td>...</td>\n",
              "      <td>...</td>\n",
              "      <td>...</td>\n",
              "      <td>...</td>\n",
              "      <td>...</td>\n",
              "      <td>...</td>\n",
              "      <td>...</td>\n",
              "      <td>...</td>\n",
              "      <td>...</td>\n",
              "      <td>...</td>\n",
              "      <td>...</td>\n",
              "      <td>...</td>\n",
              "      <td>...</td>\n",
              "      <td>...</td>\n",
              "    </tr>\n",
              "    <tr>\n",
              "      <th>298</th>\n",
              "      <td>57</td>\n",
              "      <td>0</td>\n",
              "      <td>0</td>\n",
              "      <td>140</td>\n",
              "      <td>241</td>\n",
              "      <td>0</td>\n",
              "      <td>1</td>\n",
              "      <td>123</td>\n",
              "      <td>1</td>\n",
              "      <td>0.2</td>\n",
              "      <td>1</td>\n",
              "      <td>0</td>\n",
              "      <td>3</td>\n",
              "      <td>0</td>\n",
              "    </tr>\n",
              "    <tr>\n",
              "      <th>299</th>\n",
              "      <td>45</td>\n",
              "      <td>1</td>\n",
              "      <td>3</td>\n",
              "      <td>110</td>\n",
              "      <td>264</td>\n",
              "      <td>0</td>\n",
              "      <td>1</td>\n",
              "      <td>132</td>\n",
              "      <td>0</td>\n",
              "      <td>1.2</td>\n",
              "      <td>1</td>\n",
              "      <td>0</td>\n",
              "      <td>3</td>\n",
              "      <td>0</td>\n",
              "    </tr>\n",
              "    <tr>\n",
              "      <th>300</th>\n",
              "      <td>68</td>\n",
              "      <td>1</td>\n",
              "      <td>0</td>\n",
              "      <td>144</td>\n",
              "      <td>193</td>\n",
              "      <td>1</td>\n",
              "      <td>1</td>\n",
              "      <td>141</td>\n",
              "      <td>0</td>\n",
              "      <td>3.4</td>\n",
              "      <td>1</td>\n",
              "      <td>2</td>\n",
              "      <td>3</td>\n",
              "      <td>0</td>\n",
              "    </tr>\n",
              "    <tr>\n",
              "      <th>301</th>\n",
              "      <td>57</td>\n",
              "      <td>1</td>\n",
              "      <td>0</td>\n",
              "      <td>130</td>\n",
              "      <td>131</td>\n",
              "      <td>0</td>\n",
              "      <td>1</td>\n",
              "      <td>115</td>\n",
              "      <td>1</td>\n",
              "      <td>1.2</td>\n",
              "      <td>1</td>\n",
              "      <td>1</td>\n",
              "      <td>3</td>\n",
              "      <td>0</td>\n",
              "    </tr>\n",
              "    <tr>\n",
              "      <th>302</th>\n",
              "      <td>57</td>\n",
              "      <td>0</td>\n",
              "      <td>1</td>\n",
              "      <td>130</td>\n",
              "      <td>236</td>\n",
              "      <td>0</td>\n",
              "      <td>0</td>\n",
              "      <td>174</td>\n",
              "      <td>0</td>\n",
              "      <td>0.0</td>\n",
              "      <td>1</td>\n",
              "      <td>1</td>\n",
              "      <td>2</td>\n",
              "      <td>0</td>\n",
              "    </tr>\n",
              "  </tbody>\n",
              "</table>\n",
              "<p>303 rows × 14 columns</p>\n",
              "</div>\n",
              "      <button class=\"colab-df-convert\" onclick=\"convertToInteractive('df-89ef3666-967f-4df0-bd5b-8f20dcffa2a5')\"\n",
              "              title=\"Convert this dataframe to an interactive table.\"\n",
              "              style=\"display:none;\">\n",
              "        \n",
              "  <svg xmlns=\"http://www.w3.org/2000/svg\" height=\"24px\"viewBox=\"0 0 24 24\"\n",
              "       width=\"24px\">\n",
              "    <path d=\"M0 0h24v24H0V0z\" fill=\"none\"/>\n",
              "    <path d=\"M18.56 5.44l.94 2.06.94-2.06 2.06-.94-2.06-.94-.94-2.06-.94 2.06-2.06.94zm-11 1L8.5 8.5l.94-2.06 2.06-.94-2.06-.94L8.5 2.5l-.94 2.06-2.06.94zm10 10l.94 2.06.94-2.06 2.06-.94-2.06-.94-.94-2.06-.94 2.06-2.06.94z\"/><path d=\"M17.41 7.96l-1.37-1.37c-.4-.4-.92-.59-1.43-.59-.52 0-1.04.2-1.43.59L10.3 9.45l-7.72 7.72c-.78.78-.78 2.05 0 2.83L4 21.41c.39.39.9.59 1.41.59.51 0 1.02-.2 1.41-.59l7.78-7.78 2.81-2.81c.8-.78.8-2.07 0-2.86zM5.41 20L4 18.59l7.72-7.72 1.47 1.35L5.41 20z\"/>\n",
              "  </svg>\n",
              "      </button>\n",
              "      \n",
              "  <style>\n",
              "    .colab-df-container {\n",
              "      display:flex;\n",
              "      flex-wrap:wrap;\n",
              "      gap: 12px;\n",
              "    }\n",
              "\n",
              "    .colab-df-convert {\n",
              "      background-color: #E8F0FE;\n",
              "      border: none;\n",
              "      border-radius: 50%;\n",
              "      cursor: pointer;\n",
              "      display: none;\n",
              "      fill: #1967D2;\n",
              "      height: 32px;\n",
              "      padding: 0 0 0 0;\n",
              "      width: 32px;\n",
              "    }\n",
              "\n",
              "    .colab-df-convert:hover {\n",
              "      background-color: #E2EBFA;\n",
              "      box-shadow: 0px 1px 2px rgba(60, 64, 67, 0.3), 0px 1px 3px 1px rgba(60, 64, 67, 0.15);\n",
              "      fill: #174EA6;\n",
              "    }\n",
              "\n",
              "    [theme=dark] .colab-df-convert {\n",
              "      background-color: #3B4455;\n",
              "      fill: #D2E3FC;\n",
              "    }\n",
              "\n",
              "    [theme=dark] .colab-df-convert:hover {\n",
              "      background-color: #434B5C;\n",
              "      box-shadow: 0px 1px 3px 1px rgba(0, 0, 0, 0.15);\n",
              "      filter: drop-shadow(0px 1px 2px rgba(0, 0, 0, 0.3));\n",
              "      fill: #FFFFFF;\n",
              "    }\n",
              "  </style>\n",
              "\n",
              "      <script>\n",
              "        const buttonEl =\n",
              "          document.querySelector('#df-89ef3666-967f-4df0-bd5b-8f20dcffa2a5 button.colab-df-convert');\n",
              "        buttonEl.style.display =\n",
              "          google.colab.kernel.accessAllowed ? 'block' : 'none';\n",
              "\n",
              "        async function convertToInteractive(key) {\n",
              "          const element = document.querySelector('#df-89ef3666-967f-4df0-bd5b-8f20dcffa2a5');\n",
              "          const dataTable =\n",
              "            await google.colab.kernel.invokeFunction('convertToInteractive',\n",
              "                                                     [key], {});\n",
              "          if (!dataTable) return;\n",
              "\n",
              "          const docLinkHtml = 'Like what you see? Visit the ' +\n",
              "            '<a target=\"_blank\" href=https://colab.research.google.com/notebooks/data_table.ipynb>data table notebook</a>'\n",
              "            + ' to learn more about interactive tables.';\n",
              "          element.innerHTML = '';\n",
              "          dataTable['output_type'] = 'display_data';\n",
              "          await google.colab.output.renderOutput(dataTable, element);\n",
              "          const docLink = document.createElement('div');\n",
              "          docLink.innerHTML = docLinkHtml;\n",
              "          element.appendChild(docLink);\n",
              "        }\n",
              "      </script>\n",
              "    </div>\n",
              "  </div>\n",
              "  "
            ]
          },
          "metadata": {},
          "execution_count": 2
        }
      ]
    },
    {
      "cell_type": "markdown",
      "source": [
        "##Verificação de entradas nulas"
      ],
      "metadata": {
        "id": "uZOPx-pUbPy6"
      }
    },
    {
      "cell_type": "code",
      "source": [
        "df.isnull().sum()"
      ],
      "metadata": {
        "colab": {
          "base_uri": "https://localhost:8080/"
        },
        "id": "0O6ptkzmx4fC",
        "outputId": "12bffc73-66c1-4842-e12a-2bb4a3076988"
      },
      "execution_count": null,
      "outputs": [
        {
          "output_type": "execute_result",
          "data": {
            "text/plain": [
              "idade        0\n",
              "sexo         0\n",
              "dor          0\n",
              "part         0\n",
              "chol         0\n",
              "asj          0\n",
              "restecg      0\n",
              "fcarmax      0\n",
              "aie          0\n",
              "picoant      0\n",
              "curva        0\n",
              "nvm          0\n",
              "fcar         0\n",
              "resultado    0\n",
              "dtype: int64"
            ]
          },
          "metadata": {},
          "execution_count": 3
        }
      ]
    },
    {
      "cell_type": "markdown",
      "source": [
        "##Visualizando a correlação dos dados"
      ],
      "metadata": {
        "id": "MWFRiJW4fssX"
      }
    },
    {
      "cell_type": "code",
      "source": [
        "correlacao = df.corr()\n",
        "correlacao['resultado'].sort_values(ascending=False)"
      ],
      "metadata": {
        "colab": {
          "base_uri": "https://localhost:8080/"
        },
        "id": "Xt5MHB8ieiAW",
        "outputId": "168a26de-706c-4ab9-c3ff-c663eea988fa"
      },
      "execution_count": null,
      "outputs": [
        {
          "output_type": "execute_result",
          "data": {
            "text/plain": [
              "resultado    1.000000\n",
              "dor          0.433798\n",
              "fcarmax      0.421741\n",
              "curva        0.345877\n",
              "restecg      0.137230\n",
              "asj         -0.028046\n",
              "chol        -0.085239\n",
              "part        -0.144931\n",
              "idade       -0.225439\n",
              "sexo        -0.280937\n",
              "fcar        -0.344029\n",
              "nvm         -0.391724\n",
              "picoant     -0.430696\n",
              "aie         -0.436757\n",
              "Name: resultado, dtype: float64"
            ]
          },
          "metadata": {},
          "execution_count": 4
        }
      ]
    },
    {
      "cell_type": "markdown",
      "source": [
        "##Divisão dos Dados e Treino do Modelo"
      ],
      "metadata": {
        "id": "uGvWh64hbh0K"
      }
    },
    {
      "cell_type": "code",
      "source": [
        "y = df['resultado']\n",
        "x = df[\"dor\"]\n",
        "x = x.values.reshape(-1,1)\n",
        "\n",
        "x_train,x_test,y_train,y_test=train_test_split(x,y,test_size=0.20, random_state=100)"
      ],
      "metadata": {
        "id": "Gfm4RERn70cC"
      },
      "execution_count": null,
      "outputs": []
    },
    {
      "cell_type": "markdown",
      "source": [
        "##Gerando melhor seed para o algoritmo"
      ],
      "metadata": {
        "id": "Xc67gdRuj-xT"
      }
    },
    {
      "cell_type": "code",
      "source": [
        "precisao = 0\n",
        "\n",
        "for seed in range(100):\n",
        "    dt = DecisionTreeClassifier(random_state=seed)\n",
        "    dt.fit(x_train,y_train)\n",
        "    y_previsao = dt.predict(x_test)\n",
        "    precisao_atual = round(accuracy_score(y_previsao,y_test)*100,2)\n",
        "    \n",
        "    if(precisao_atual > precisao):\n",
        "        precisao = precisao_atual\n",
        "        melhor_valor = seed\n",
        "        \n",
        "print(\"Melhor seed gerada:\",melhor_valor)"
      ],
      "metadata": {
        "colab": {
          "base_uri": "https://localhost:8080/"
        },
        "id": "uIrpRUxgTIOI",
        "outputId": "f2b1c607-1a02-4d05-e854-dbc5a14579df"
      },
      "execution_count": null,
      "outputs": [
        {
          "output_type": "stream",
          "name": "stdout",
          "text": [
            "Melhor seed gerada: 2\n"
          ]
        }
      ]
    },
    {
      "cell_type": "markdown",
      "source": [
        "##Aplicando o modelo da Árvore de Decisão"
      ],
      "metadata": {
        "id": "J5t_2qoukIty"
      }
    },
    {
      "cell_type": "code",
      "source": [
        "dt=DecisionTreeClassifier(criterion='entropy', random_state=melhor_valor)\n",
        "dt.fit(x_train, y_train)\n",
        "y_previsao = dt.predict(x_test)"
      ],
      "metadata": {
        "id": "sF7cpjNxkMG8"
      },
      "execution_count": null,
      "outputs": []
    },
    {
      "cell_type": "markdown",
      "source": [
        "#Pontuação final do modelo"
      ],
      "metadata": {
        "id": "t4tBHMSskPZQ"
      }
    },
    {
      "cell_type": "code",
      "source": [
        "pontuacao = round(accuracy_score(y_previsao,y_test)*100,2)\n",
        "\n",
        "print(\"A precisão do modelo gerado é de \" +str(pontuacao)+ \"%\")"
      ],
      "metadata": {
        "colab": {
          "base_uri": "https://localhost:8080/"
        },
        "id": "gwRXDvAlTsxw",
        "outputId": "717402ca-bf2a-419f-dd45-0f26adbf13fa"
      },
      "execution_count": null,
      "outputs": [
        {
          "output_type": "stream",
          "name": "stdout",
          "text": [
            "A precisão do modelo gerado é de 83.61%\n"
          ]
        }
      ]
    },
    {
      "cell_type": "markdown",
      "source": [
        "##Teste do modelo"
      ],
      "metadata": {
        "id": "NIvm_-wlMSdj"
      }
    },
    {
      "cell_type": "code",
      "source": [
        "dadosTeste = ['54','1','3','155','240','1','1','160','0','2','2','0','1']\n",
        "\n",
        "teste = {}\n",
        "cont = 0\n",
        "\n",
        "for dado in dadosTeste:\n",
        "  teste[df.columns[cont]] = dado\n",
        "  # DESCOMENTAR PARA INSERIR MANUALMENTE\n",
        "  #teste[df.columns[cont]] = input(\"Digite um valor para \"+str(df.columns[cont])+\": \")\n",
        "  cont += 1\n",
        "\n",
        "paciente = pd.DataFrame(teste, index=[0])\n",
        "resultadosDoenca = dt.predict(paciente)\n",
        "\n",
        "if resultadosDoenca == 1:\n",
        "  print(\"O paciente possui risco ALTO de contrair doenças cardíacas.\")\n",
        "else:\n",
        "  print(\"O paciente possui risco BAIXO de contrair doenças cardíacas.\")"
      ],
      "metadata": {
        "id": "UgnI1ggFBtMQ"
      },
      "execution_count": null,
      "outputs": []
    }
  ]
}